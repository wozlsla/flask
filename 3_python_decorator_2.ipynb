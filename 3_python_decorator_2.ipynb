{
 "cells": [
  {
   "cell_type": "markdown",
   "metadata": {},
   "source": [
    "#### Decorator"
   ]
  },
  {
   "cell_type": "code",
   "execution_count": 1,
   "metadata": {},
   "outputs": [],
   "source": [
    "import datetime"
   ]
  },
  {
   "cell_type": "code",
   "execution_count": 4,
   "metadata": {},
   "outputs": [],
   "source": [
    "def datetime_decorator(func): # decorator name\n",
    "\n",
    "    def wrapper():\n",
    "        print(\"time \" + str(datetime.datetime.now()))\n",
    "        func()\n",
    "        print(datetime.datetime.now())\n",
    "\n",
    "    return wrapper"
   ]
  },
  {
   "cell_type": "code",
   "execution_count": 5,
   "metadata": {},
   "outputs": [
    {
     "name": "stdout",
     "output_type": "stream",
     "text": [
      "time 2022-01-14 16:06:17.632229\n",
      "David login\n",
      "2022-01-14 16:06:17.633263\n"
     ]
    }
   ],
   "source": [
    "@datetime_decorator\n",
    "def logger_login_david():\n",
    "    print(\"David login\")\n",
    "\n",
    "logger_login_david()"
   ]
  },
  {
   "cell_type": "code",
   "execution_count": 6,
   "metadata": {},
   "outputs": [
    {
     "name": "stdout",
     "output_type": "stream",
     "text": [
      "time 2022-01-14 16:08:57.207536\n",
      "Tina login\n",
      "2022-01-14 16:08:57.207536\n"
     ]
    }
   ],
   "source": [
    "@datetime_decorator\n",
    "def logger_login_tina():\n",
    "    print(\"Tina login\")\n",
    "\n",
    "logger_login_tina()"
   ]
  },
  {
   "cell_type": "code",
   "execution_count": null,
   "metadata": {},
   "outputs": [],
   "source": []
  },
  {
   "cell_type": "code",
   "execution_count": 7,
   "metadata": {},
   "outputs": [
    {
     "name": "stdout",
     "output_type": "stream",
     "text": [
      "decoration added\n",
      "logging\n"
     ]
    }
   ],
   "source": [
    "def outer_func(func):\n",
    "    \n",
    "    def inner_func():\n",
    "        print(\"decoration added\")\n",
    "        func()\n",
    "\n",
    "    return inner_func\n",
    "\n",
    "def log_func():\n",
    "    print(\"logging\")\n",
    "\n",
    "decorated_func = outer_func(log_func)\n",
    "decorated_func()"
   ]
  },
  {
   "cell_type": "code",
   "execution_count": 8,
   "metadata": {},
   "outputs": [
    {
     "name": "stdout",
     "output_type": "stream",
     "text": [
      "decoration added\n",
      "logging\n"
     ]
    }
   ],
   "source": [
    "@outer_func\n",
    "def log_func():\n",
    "    print(\"logging\")\n",
    "\n",
    "log_func()"
   ]
  },
  {
   "cell_type": "code",
   "execution_count": null,
   "metadata": {},
   "outputs": [],
   "source": []
  },
  {
   "cell_type": "code",
   "execution_count": 10,
   "metadata": {},
   "outputs": [],
   "source": [
    "def outer_func(func):\n",
    "    \n",
    "    def inner_func(digit1, digit2):\n",
    "        \n",
    "        if digit2 == 0:\n",
    "            print(\"Cannot be devided with 0\")\n",
    "            return\n",
    "\n",
    "        func(digit1, digit2)\n",
    "\n",
    "    return inner_func\n",
    "\n",
    "@outer_func\n",
    "def devide(digit1, digit2):\n",
    "    print(digit1 / digit2)"
   ]
  },
  {
   "cell_type": "code",
   "execution_count": 11,
   "metadata": {},
   "outputs": [
    {
     "name": "stdout",
     "output_type": "stream",
     "text": [
      "2.0\n",
      "Cannot be devided with 0\n"
     ]
    }
   ],
   "source": [
    "devide(4, 2)\n",
    "devide(4, 0)"
   ]
  },
  {
   "cell_type": "code",
   "execution_count": null,
   "metadata": {},
   "outputs": [],
   "source": []
  },
  {
   "cell_type": "code",
   "execution_count": 17,
   "metadata": {},
   "outputs": [],
   "source": [
    "def general_deco(func):\n",
    "    def wrapper(*args, **kwargs):\n",
    "        print(\"Function is decorated\")\n",
    "        return func(*args, **kwargs)\n",
    "    return wrapper\n",
    "\n",
    "@general_deco\n",
    "def calc_square(digit):\n",
    "    return digit * digit\n",
    "\n",
    "@general_deco\n",
    "def calc_plus(digit1, digit2): # duplicate argument 'digit' in function definition\n",
    "    return digit1 + digit2\n",
    "\n",
    "@general_deco\n",
    "def calc_quad(digit1, digit2, digit3, digit4):\n",
    "    return digit1 * digit2 * digit3 * digit4"
   ]
  },
  {
   "cell_type": "code",
   "execution_count": 18,
   "metadata": {},
   "outputs": [
    {
     "name": "stdout",
     "output_type": "stream",
     "text": [
      "Function is decorated\n",
      "4\n",
      "Function is decorated\n",
      "5\n",
      "Function is decorated\n",
      "120\n"
     ]
    }
   ],
   "source": [
    "print(calc_square(2))\n",
    "print(calc_plus(2, 3))\n",
    "print(calc_quad(2, 3, 4, 5))"
   ]
  },
  {
   "cell_type": "code",
   "execution_count": null,
   "metadata": {},
   "outputs": [],
   "source": []
  },
  {
   "cell_type": "code",
   "execution_count": 19,
   "metadata": {},
   "outputs": [],
   "source": [
    "def deco1(func):\n",
    "    def wrapper():\n",
    "        print(\"decorator1\")\n",
    "        func()\n",
    "    return wrapper\n",
    "\n",
    "def deco2(func):\n",
    "    def wrapper():\n",
    "        print(\"decorator2\")\n",
    "        func()\n",
    "    return wrapper"
   ]
  },
  {
   "cell_type": "code",
   "execution_count": 20,
   "metadata": {},
   "outputs": [
    {
     "name": "stdout",
     "output_type": "stream",
     "text": [
      "decorator1\n",
      "decorator2\n",
      "Hello\n"
     ]
    }
   ],
   "source": [
    "@deco1\n",
    "@deco2\n",
    "def hello():\n",
    "    print(\"Hello\")\n",
    "\n",
    "hello()"
   ]
  },
  {
   "cell_type": "code",
   "execution_count": null,
   "metadata": {},
   "outputs": [],
   "source": []
  }
 ],
 "metadata": {
  "interpreter": {
   "hash": "16edc19f1541487bd9f733630fcd4756371e62959a91cb5441c7be91c8f96ea2"
  },
  "kernelspec": {
   "display_name": "Python 3.8.12 64-bit ('flask': conda)",
   "language": "python",
   "name": "python3"
  },
  "language_info": {
   "codemirror_mode": {
    "name": "ipython",
    "version": 3
   },
   "file_extension": ".py",
   "mimetype": "text/x-python",
   "name": "python",
   "nbconvert_exporter": "python",
   "pygments_lexer": "ipython3",
   "version": "3.8.12"
  },
  "orig_nbformat": 4
 },
 "nbformat": 4,
 "nbformat_minor": 2
}
