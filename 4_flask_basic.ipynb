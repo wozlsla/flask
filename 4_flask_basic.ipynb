{
 "cells": [
  {
   "cell_type": "code",
   "execution_count": 1,
   "metadata": {},
   "outputs": [],
   "source": [
    "from flask import Flask"
   ]
  },
  {
   "cell_type": "code",
   "execution_count": 2,
   "metadata": {},
   "outputs": [
    {
     "name": "stdout",
     "output_type": "stream",
     "text": [
      " * Serving Flask app '__main__' (lazy loading)\n",
      " * Environment: production\n",
      "\u001b[31m   WARNING: This is a development server. Do not use it in a production deployment.\u001b[0m\n",
      "\u001b[2m   Use a production WSGI server instead.\u001b[0m\n",
      " * Debug mode: off\n"
     ]
    },
    {
     "name": "stderr",
     "output_type": "stream",
     "text": [
      " * Running on http://192.168.0.72:8080/ (Press CTRL+C to quit)\n",
      "192.168.0.72 - - [17/Jan/2022 13:43:58] \"GET / HTTP/1.1\" 200 -\n",
      "192.168.0.72 - - [17/Jan/2022 13:43:58] \"GET /favicon.ico HTTP/1.1\" 404 -\n",
      "192.168.0.72 - - [17/Jan/2022 13:44:34] \"GET /hello HTTP/1.1\" 200 -\n",
      "192.168.0.72 - - [17/Jan/2022 13:44:59] \"GET / HTTP/1.1\" 200 -\n"
     ]
    }
   ],
   "source": [
    "app = Flask(__name__)\n",
    "\n",
    "@app.route(\"/\")\n",
    "def hello():\n",
    "    return \"<h1>2022-01-17</h1>\"\n",
    "\n",
    "@app.route(\"/hello\")\n",
    "def hello_flak():\n",
    "    return  \"<h3>Monday</h3>\"\n",
    "\n",
    "if __name__ == \"__main__\":\n",
    "    app.run(host=\"192.168.0.72\", port=\"8080\") # http-80, https-443"
   ]
  },
  {
   "cell_type": "code",
   "execution_count": 3,
   "metadata": {},
   "outputs": [
    {
     "name": "stdout",
     "output_type": "stream",
     "text": [
      " * Serving Flask app '__main__' (lazy loading)\n",
      " * Environment: production\n",
      "\u001b[31m   WARNING: This is a development server. Do not use it in a production deployment.\u001b[0m\n",
      "\u001b[2m   Use a production WSGI server instead.\u001b[0m\n",
      " * Debug mode: off\n"
     ]
    },
    {
     "name": "stderr",
     "output_type": "stream",
     "text": [
      " * Running on http://192.168.0.72:8080/ (Press CTRL+C to quit)\n",
      "192.168.0.72 - - [17/Jan/2022 14:04:55] \"GET / HTTP/1.1\" 200 -\n",
      "192.168.0.72 - - [17/Jan/2022 14:05:05] \"GET / HTTP/1.1\" 200 -\n",
      "192.168.0.72 - - [17/Jan/2022 14:05:23] \"GET /profile/8 HTTP/1.1\" 200 -\n",
      "192.168.0.72 - - [17/Jan/2022 14:06:18] \"GET /first/jimin HTTP/1.1\" 200 -\n"
     ]
    }
   ],
   "source": [
    "app = Flask(__name__)\n",
    "\n",
    "@app.route(\"/\")\n",
    "def hello():\n",
    "    return \"<h1>2022-01-17</h1>\"\n",
    "\n",
    "@app.route(\"/profile/<username>\")\n",
    "def get_profile(username):\n",
    "    return  \"profile: \" + username\n",
    "\n",
    "@app.route(\"/first/<username>\")\n",
    "def get_first(username):\n",
    "    return  \"<h3>Monday \" + username + \" in ScatterX</h3>\"\n",
    "\n",
    "if __name__ == \"__main__\":\n",
    "    app.run(host=\"192.168.0.72\", port=\"8080\")"
   ]
  },
  {
   "cell_type": "code",
   "execution_count": 5,
   "metadata": {},
   "outputs": [],
   "source": [
    "@app.route(\"/message/<int:message_id>\")\n",
    "def get_message(message_id):\n",
    "    # return \"message_id: \" + message_id\n",
    "    return \"message_id: %d\" %  message_id"
   ]
  },
  {
   "cell_type": "markdown",
   "metadata": {},
   "source": [
    "#### REST API"
   ]
  },
  {
   "cell_type": "code",
   "execution_count": 2,
   "metadata": {},
   "outputs": [],
   "source": [
    "from flask import Flask, jsonify\n",
    "app = Flask(__name__)"
   ]
  },
  {
   "cell_type": "code",
   "execution_count": 3,
   "metadata": {},
   "outputs": [
    {
     "name": "stdout",
     "output_type": "stream",
     "text": [
      " * Serving Flask app '__main__' (lazy loading)\n",
      " * Environment: production\n",
      "\u001b[31m   WARNING: This is a development server. Do not use it in a production deployment.\u001b[0m\n",
      "\u001b[2m   Use a production WSGI server instead.\u001b[0m\n",
      " * Debug mode: off\n"
     ]
    },
    {
     "name": "stderr",
     "output_type": "stream",
     "text": [
      " * Running on http://192.168.0.72:8080/ (Press CTRL+C to quit)\n",
      "192.168.0.72 - - [17/Jan/2022 14:58:01] \"GET / HTTP/1.1\" 404 -\n",
      "192.168.0.72 - - [17/Jan/2022 14:58:35] \"GET /json_test HTTP/1.1\" 200 -\n"
     ]
    }
   ],
   "source": [
    "@app.route(\"/json_test\")\n",
    "def hello_json():\n",
    "    data = {\"name\" : \"JM\", \"team\" : \"AI\"}\n",
    "    return jsonify(data)\n",
    "\n",
    "@app.route(\"/server_info\")\n",
    "def server_json():\n",
    "    data = {\"server_name\" : \"192.168.0.72\", \"server_port\" : \"8080\"}\n",
    "    return jsonify(data)\n",
    "\n",
    "if __name__ == \"__main__\":\n",
    "    app.run(host=\"192.168.0.72\", port=\"8080\")"
   ]
  },
  {
   "cell_type": "code",
   "execution_count": null,
   "metadata": {},
   "outputs": [],
   "source": [
    "#conda isntall -c conda-forge httpie\n",
    "#$http GET http://localhost/json_test"
   ]
  }
 ],
 "metadata": {
  "interpreter": {
   "hash": "16edc19f1541487bd9f733630fcd4756371e62959a91cb5441c7be91c8f96ea2"
  },
  "kernelspec": {
   "display_name": "Python 3.8.12 64-bit ('flask': conda)",
   "language": "python",
   "name": "python3"
  },
  "language_info": {
   "codemirror_mode": {
    "name": "ipython",
    "version": 3
   },
   "file_extension": ".py",
   "mimetype": "text/x-python",
   "name": "python",
   "nbconvert_exporter": "python",
   "pygments_lexer": "ipython3",
   "version": "3.8.12"
  },
  "orig_nbformat": 4
 },
 "nbformat": 4,
 "nbformat_minor": 2
}
