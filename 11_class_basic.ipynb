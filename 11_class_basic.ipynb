{
 "cells": [
  {
   "cell_type": "code",
   "execution_count": 7,
   "metadata": {},
   "outputs": [
    {
     "name": "stdout",
     "output_type": "stream",
     "text": [
      "5 5 red\n"
     ]
    }
   ],
   "source": [
    "class Square():\n",
    "    def __init__(self, width, h, c):\n",
    "        self.width = width\n",
    "        self.height = h\n",
    "        self.c = c\n",
    "\n",
    "test1 = Square(5, 5, \"red\")\n",
    "\n",
    "print(test1.width, test1.height, test1.c)"
   ]
  },
  {
   "cell_type": "code",
   "execution_count": 6,
   "metadata": {},
   "outputs": [
    {
     "name": "stdout",
     "output_type": "stream",
     "text": [
      "50\n",
      "49\n"
     ]
    }
   ],
   "source": [
    "class Quadrangle():\n",
    "    def __init__(self, width, height, color):\n",
    "        self.width = width\n",
    "        self.height = height\n",
    "        self.color = color\n",
    "\n",
    "    def calc_width(self):\n",
    "        return self.width * self.height\n",
    "\n",
    "    def test(self, data1, data2):\n",
    "        self.width = data1\n",
    "        self.height = data2\n",
    "\n",
    "square1 = Quadrangle(1, 2, 'blue')\n",
    "square2 = Quadrangle(3, 4, 'green')\n",
    "\n",
    "square1.test(10, 5)\n",
    "square2.test(7, 7)\n",
    "square1.color = \"red\"\n",
    "square2.color = \"orange\"\n",
    "\n",
    "print(square1.calc_width())\n",
    "print(square2.calc_width())"
   ]
  }
 ],
 "metadata": {
  "interpreter": {
   "hash": "16edc19f1541487bd9f733630fcd4756371e62959a91cb5441c7be91c8f96ea2"
  },
  "kernelspec": {
   "display_name": "Python 3.8.12 64-bit ('flask': conda)",
   "language": "python",
   "name": "python3"
  },
  "language_info": {
   "codemirror_mode": {
    "name": "ipython",
    "version": 3
   },
   "file_extension": ".py",
   "mimetype": "text/x-python",
   "name": "python",
   "nbconvert_exporter": "python",
   "pygments_lexer": "ipython3",
   "version": "3.8.12"
  },
  "orig_nbformat": 4
 },
 "nbformat": 4,
 "nbformat_minor": 2
}
