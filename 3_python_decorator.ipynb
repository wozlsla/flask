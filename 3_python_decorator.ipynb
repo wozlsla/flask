{
 "cells": [
  {
   "cell_type": "markdown",
   "metadata": {},
   "source": [
    "#### Nested function"
   ]
  },
  {
   "cell_type": "code",
   "execution_count": 3,
   "metadata": {},
   "outputs": [],
   "source": [
    "def outer_func():\n",
    "    print(\"call outer_func function\")\n",
    "\n",
    "    def inner_func():\n",
    "        return \"call inner_func function\"\n",
    "        \n",
    "    print(inner_func())"
   ]
  },
  {
   "cell_type": "code",
   "execution_count": 4,
   "metadata": {},
   "outputs": [
    {
     "name": "stdout",
     "output_type": "stream",
     "text": [
      "call outer_func function\n",
      "call inner_func function\n"
     ]
    }
   ],
   "source": [
    "outer_func()"
   ]
  },
  {
   "cell_type": "code",
   "execution_count": 6,
   "metadata": {},
   "outputs": [
    {
     "ename": "NameError",
     "evalue": "name 'inner_func' is not defined",
     "output_type": "error",
     "traceback": [
      "\u001b[1;31m---------------------------------------------------------------------------\u001b[0m",
      "\u001b[1;31mNameError\u001b[0m                                 Traceback (most recent call last)",
      "Input \u001b[1;32mIn [6]\u001b[0m, in \u001b[0;36m<module>\u001b[1;34m\u001b[0m\n\u001b[1;32m----> 1\u001b[0m \u001b[43minner_func\u001b[49m()\n",
      "\u001b[1;31mNameError\u001b[0m: name 'inner_func' is not defined"
     ]
    }
   ],
   "source": [
    "inner_func() # steak"
   ]
  },
  {
   "cell_type": "markdown",
   "metadata": {},
   "source": [
    "#### First-class function"
   ]
  },
  {
   "cell_type": "code",
   "execution_count": 7,
   "metadata": {},
   "outputs": [
    {
     "name": "stdout",
     "output_type": "stream",
     "text": [
      "10\n",
      "complex\n"
     ]
    }
   ],
   "source": [
    "def outer_func(num):\n",
    "    def inner_func():\n",
    "        print(num)\n",
    "        return 'complex'\n",
    "\n",
    "    return inner_func\n",
    "\n",
    "fn = outer_func(10) # First-class F\n",
    "print(fn())         # Call Closure"
   ]
  },
  {
   "cell_type": "code",
   "execution_count": 1,
   "metadata": {},
   "outputs": [
    {
     "name": "stdout",
     "output_type": "stream",
     "text": [
      "<function calc_square at 0x0000027728C4F820>\n",
      "4\n"
     ]
    }
   ],
   "source": [
    "def calc_square(digit):\n",
    "    return digit * digit\n",
    "\n",
    "func1 = calc_square # var = func\n",
    "\n",
    "print(func1)\n",
    "print(func1(2))"
   ]
  },
  {
   "cell_type": "code",
   "execution_count": 2,
   "metadata": {},
   "outputs": [],
   "source": [
    "def calc_square(digit):\n",
    "    return digit * digit\n",
    "\n",
    "def calc_plus(digit):\n",
    "    return digit + digit\n",
    "\n",
    "def calc_quad(digit):\n",
    "    return digit * digit * digit * digit\n",
    "\n",
    "\n",
    "def list_square(func, digit_list):\n",
    "    result = list()\n",
    "    \n",
    "    for digit in digit_list:\n",
    "        result.append(func(digit))\n",
    "    \n",
    "    print(result)"
   ]
  },
  {
   "cell_type": "code",
   "execution_count": 3,
   "metadata": {},
   "outputs": [
    {
     "name": "stdout",
     "output_type": "stream",
     "text": [
      "[1, 4, 9, 16, 25]\n",
      "[2, 4, 6, 8, 10]\n",
      "[1, 16, 81, 256, 625]\n"
     ]
    }
   ],
   "source": [
    "num_list = [1, 2, 3, 4, 5]\n",
    "\n",
    "list_square(calc_square, num_list)\n",
    "list_square(calc_plus, num_list)\n",
    "list_square(calc_quad, num_list)"
   ]
  },
  {
   "cell_type": "code",
   "execution_count": null,
   "metadata": {},
   "outputs": [],
   "source": []
  },
  {
   "cell_type": "code",
   "execution_count": 4,
   "metadata": {},
   "outputs": [
    {
     "name": "stdout",
     "output_type": "stream",
     "text": [
      "<function logger.<locals>.msg_creator at 0x0000027728CA05E0>\n",
      "[HIGH LEVEL]:  JM Log-in\n",
      "None\n"
     ]
    }
   ],
   "source": [
    "def logger(msg):\n",
    "    message = msg\n",
    "    def msg_creator():\n",
    "        print('[HIGH LEVEL]: ', message)\n",
    "    return msg_creator\n",
    "\n",
    "log1 = logger('JM Log-in')\n",
    "\n",
    "print(log1)\n",
    "print(log1())"
   ]
  },
  {
   "cell_type": "code",
   "execution_count": 5,
   "metadata": {},
   "outputs": [
    {
     "name": "stdout",
     "output_type": "stream",
     "text": [
      "[HIGH LEVEL]:  JM Log-in\n"
     ]
    }
   ],
   "source": [
    "log1()"
   ]
  },
  {
   "cell_type": "code",
   "execution_count": 6,
   "metadata": {},
   "outputs": [],
   "source": [
    "del logger # !!"
   ]
  },
  {
   "cell_type": "code",
   "execution_count": 7,
   "metadata": {},
   "outputs": [
    {
     "name": "stdout",
     "output_type": "stream",
     "text": [
      "[HIGH LEVEL]:  JM Log-in\n"
     ]
    }
   ],
   "source": [
    "log1()"
   ]
  },
  {
   "cell_type": "code",
   "execution_count": null,
   "metadata": {},
   "outputs": [],
   "source": []
  },
  {
   "cell_type": "code",
   "execution_count": 15,
   "metadata": {},
   "outputs": [],
   "source": [
    "def html_creator(tag):\n",
    "\n",
    "    def text_wrapper(msg):\n",
    "        print(\"<{0}> {1} </{0}>\".format(tag, msg))\n",
    "\n",
    "    return text_wrapper"
   ]
  },
  {
   "cell_type": "code",
   "execution_count": 16,
   "metadata": {},
   "outputs": [
    {
     "name": "stdout",
     "output_type": "stream",
     "text": [
      "<function html_creator.<locals>.text_wrapper at 0x0000027728CA0EE0>\n"
     ]
    }
   ],
   "source": [
    "h1_html_creator = html_creator(\"h1\")\n",
    "print (h1_html_creator)"
   ]
  },
  {
   "cell_type": "code",
   "execution_count": 17,
   "metadata": {},
   "outputs": [
    {
     "name": "stdout",
     "output_type": "stream",
     "text": [
      "<h1> H1 Tag : Title </h1>\n"
     ]
    }
   ],
   "source": [
    "h1_html_creator(\"H1 Tag : Title\")"
   ]
  },
  {
   "cell_type": "code",
   "execution_count": 18,
   "metadata": {},
   "outputs": [
    {
     "name": "stdout",
     "output_type": "stream",
     "text": [
      "<p> P Tag : Paragraph </p>\n"
     ]
    }
   ],
   "source": [
    "p_html_creator = html_creator(\"p\")\n",
    "p_html_creator(\"P Tag : Paragraph\")"
   ]
  },
  {
   "cell_type": "code",
   "execution_count": 19,
   "metadata": {},
   "outputs": [
    {
     "name": "stdout",
     "output_type": "stream",
     "text": [
      "- Hello \n",
      "* Hello \n",
      "x Hello \n"
     ]
    }
   ],
   "source": [
    "def list_creator(tag):\n",
    "    def wrapper(msg):\n",
    "        print(\"{0} {1} \".format(tag, msg))\n",
    "\n",
    "    return wrapper\n",
    "\n",
    "list_minus = list_creator(\"-\")\n",
    "list_minus(\"Hello\")\n",
    "\n",
    "list_mul = list_creator(\"*\")\n",
    "list_mul(\"Hello\")\n",
    "\n",
    "list_x = list_creator(\"x\")\n",
    "list_x(\"Hello\")"
   ]
  },
  {
   "cell_type": "markdown",
   "metadata": {},
   "source": [
    "#### Closure function"
   ]
  },
  {
   "cell_type": "code",
   "execution_count": 26,
   "metadata": {},
   "outputs": [],
   "source": [
    "def calc_power(n):\n",
    "    \n",
    "    def power(digit):\n",
    "        return digit ** n\n",
    "\n",
    "    return power"
   ]
  },
  {
   "cell_type": "code",
   "execution_count": 27,
   "metadata": {},
   "outputs": [
    {
     "name": "stdout",
     "output_type": "stream",
     "text": [
      "4\n",
      "8\n",
      "16\n"
     ]
    }
   ],
   "source": [
    "power2 = calc_power(2)\n",
    "power3 = calc_power(3)\n",
    "power4 = calc_power(4)\n",
    "\n",
    "print(power2(2), power3(2), power4(2), sep=\"\\n\")"
   ]
  },
  {
   "cell_type": "code",
   "execution_count": 31,
   "metadata": {},
   "outputs": [
    {
     "name": "stdout",
     "output_type": "stream",
     "text": [
      "2\n",
      "4\n",
      "8\n",
      "16\n",
      "32\n"
     ]
    }
   ],
   "source": [
    "list_data = []\n",
    "\n",
    "for i in range(1, 6):\n",
    "    list_data.append(calc_power(i))\n",
    "\n",
    "for j in list_data:\n",
    "    print(j(2))"
   ]
  }
 ],
 "metadata": {
  "interpreter": {
   "hash": "16edc19f1541487bd9f733630fcd4756371e62959a91cb5441c7be91c8f96ea2"
  },
  "kernelspec": {
   "display_name": "Python 3.8.12 64-bit ('flask': conda)",
   "language": "python",
   "name": "python3"
  },
  "language_info": {
   "codemirror_mode": {
    "name": "ipython",
    "version": 3
   },
   "file_extension": ".py",
   "mimetype": "text/x-python",
   "name": "python",
   "nbconvert_exporter": "python",
   "pygments_lexer": "ipython3",
   "version": "3.8.12"
  },
  "orig_nbformat": 4
 },
 "nbformat": 4,
 "nbformat_minor": 2
}
